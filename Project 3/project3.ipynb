{
 "cells": [
  {
   "attachments": {},
   "cell_type": "markdown",
   "metadata": {},
   "source": [
    "# Project 3 - Name Classifier\n",
    "DATA 620 - Web Analytics \\\n",
    "Group: Tora Mullings, Coffy Andrews-Guo"
   ]
  },
  {
   "cell_type": "code",
   "execution_count": 212,
   "metadata": {},
   "outputs": [],
   "source": [
    "import nltk\n",
    "from nltk.corpus import names\n",
    "from nltk.util import bigrams\n",
    "import random\n",
    "import pandas as pd\n",
    "import seaborn as sns"
   ]
  },
  {
   "attachments": {},
   "cell_type": "markdown",
   "metadata": {},
   "source": [
    "# Data Exploration\n"
   ]
  },
  {
   "cell_type": "code",
   "execution_count": 213,
   "metadata": {},
   "outputs": [
    {
     "name": "stdout",
     "output_type": "stream",
     "text": [
      "7944  names total\n",
      "5001 female names & 2943  male names\n"
     ]
    },
    {
     "data": {
      "text/plain": [
       "[('Antoine', 'male'),\n",
       " ('Daphene', 'female'),\n",
       " ('Rosalind', 'female'),\n",
       " ('Stanislaw', 'male'),\n",
       " ('Correna', 'female')]"
      ]
     },
     "execution_count": 213,
     "metadata": {},
     "output_type": "execute_result"
    }
   ],
   "source": [
    "names = ([(name, 'male') for name in names.words('male.txt')] + [(name, 'female') for name in names.words('female.txt')])\n",
    "random.shuffle(names)\n",
    "\n",
    "print(len(names), \" names total\")\n",
    "\n",
    "name_list, genders, letter_counts = [], [], []\n",
    "for (n, g) in names:\n",
    "    letter_counts.append(len(n))\n",
    "    name_list.append(n)\n",
    "    if g == 'female':\n",
    "        genders.append('female')\n",
    "    else:\n",
    "        genders.append('male')\n",
    "\n",
    "dict = {'name': name_list,\n",
    "        'gender': genders,\n",
    "        'letter_count': letter_counts\n",
    "       }\n",
    "  \n",
    "df = pd.DataFrame(dict)\n",
    "\n",
    "print(genders.count('female'), \"female names &\", genders.count('male'), \" male names\")\n",
    "names[:5]"
   ]
  },
  {
   "cell_type": "code",
   "execution_count": 214,
   "metadata": {},
   "outputs": [
    {
     "data": {
      "text/plain": [
       "<seaborn.axisgrid.FacetGrid at 0x1d17f247280>"
      ]
     },
     "execution_count": 214,
     "metadata": {},
     "output_type": "execute_result"
    },
    {
     "data": {
      "image/png": "[encoded data removed]",
      "text/plain": [
       "<Figure size 430.5x360 with 1 Axes>"
      ]
     },
     "metadata": {
      "needs_background": "light"
     },
     "output_type": "display_data"
    }
   ],
   "source": [
    "max_letters = df['letter_count'].max()\n",
    "min_letters = df['letter_count'].min()\n",
    "sns.displot(df, x=\"letter_count\", hue=\"gender\", binwidth=1)"
   ]
  },
  {
   "attachments": {},
   "cell_type": "markdown",
   "metadata": {},
   "source": [
    "Note that there are over 2000 more female names than male names."
   ]
  },
  {
   "cell_type": "code",
   "execution_count": 215,
   "metadata": {},
   "outputs": [
    {
     "data": {
      "text/html": [
       "<div>\n",
       "<style scoped>\n",
       "    .dataframe tbody tr th:only-of-type {\n",
       "        vertical-align: middle;\n",
       "    }\n",
       "\n",
       "    .dataframe tbody tr th {\n",
       "        vertical-align: top;\n",
       "    }\n",
       "\n",
       "    .dataframe thead th {\n",
       "        text-align: right;\n",
       "    }\n",
       "</style>\n",
       "<table border=\"1\" class=\"dataframe\">\n",
       "  <thead>\n",
       "    <tr style=\"text-align: right;\">\n",
       "      <th></th>\n",
       "      <th>name</th>\n",
       "      <th>gender</th>\n",
       "      <th>letter_count</th>\n",
       "    </tr>\n",
       "  </thead>\n",
       "  <tbody>\n",
       "    <tr>\n",
       "      <th>3867</th>\n",
       "      <td>Jean-Christophe</td>\n",
       "      <td>male</td>\n",
       "      <td>15</td>\n",
       "    </tr>\n",
       "    <tr>\n",
       "      <th>6351</th>\n",
       "      <td>Helen-Elizabeth</td>\n",
       "      <td>female</td>\n",
       "      <td>15</td>\n",
       "    </tr>\n",
       "  </tbody>\n",
       "</table>\n",
       "</div>"
      ],
      "text/plain": [
       "                 name  gender  letter_count\n",
       "3867  Jean-Christophe    male            15\n",
       "6351  Helen-Elizabeth  female            15"
      ]
     },
     "execution_count": 215,
     "metadata": {},
     "output_type": "execute_result"
    }
   ],
   "source": [
    "df.loc[df['letter_count'] == max_letters]"
   ]
  },
  {
   "cell_type": "code",
   "execution_count": 216,
   "metadata": {},
   "outputs": [
    {
     "data": {
      "text/html": [
       "<div>\n",
       "<style scoped>\n",
       "    .dataframe tbody tr th:only-of-type {\n",
       "        vertical-align: middle;\n",
       "    }\n",
       "\n",
       "    .dataframe tbody tr th {\n",
       "        vertical-align: top;\n",
       "    }\n",
       "\n",
       "    .dataframe thead th {\n",
       "        text-align: right;\n",
       "    }\n",
       "</style>\n",
       "<table border=\"1\" class=\"dataframe\">\n",
       "  <thead>\n",
       "    <tr style=\"text-align: right;\">\n",
       "      <th></th>\n",
       "      <th>name</th>\n",
       "      <th>gender</th>\n",
       "      <th>letter_count</th>\n",
       "    </tr>\n",
       "  </thead>\n",
       "  <tbody>\n",
       "    <tr>\n",
       "      <th>167</th>\n",
       "      <td>Er</td>\n",
       "      <td>male</td>\n",
       "      <td>2</td>\n",
       "    </tr>\n",
       "    <tr>\n",
       "      <th>173</th>\n",
       "      <td>Hy</td>\n",
       "      <td>male</td>\n",
       "      <td>2</td>\n",
       "    </tr>\n",
       "    <tr>\n",
       "      <th>1049</th>\n",
       "      <td>Em</td>\n",
       "      <td>female</td>\n",
       "      <td>2</td>\n",
       "    </tr>\n",
       "    <tr>\n",
       "      <th>1461</th>\n",
       "      <td>Cy</td>\n",
       "      <td>male</td>\n",
       "      <td>2</td>\n",
       "    </tr>\n",
       "    <tr>\n",
       "      <th>1586</th>\n",
       "      <td>La</td>\n",
       "      <td>female</td>\n",
       "      <td>2</td>\n",
       "    </tr>\n",
       "    <tr>\n",
       "      <th>1927</th>\n",
       "      <td>Bo</td>\n",
       "      <td>male</td>\n",
       "      <td>2</td>\n",
       "    </tr>\n",
       "    <tr>\n",
       "      <th>2232</th>\n",
       "      <td>Ev</td>\n",
       "      <td>male</td>\n",
       "      <td>2</td>\n",
       "    </tr>\n",
       "    <tr>\n",
       "      <th>2442</th>\n",
       "      <td>Jo</td>\n",
       "      <td>female</td>\n",
       "      <td>2</td>\n",
       "    </tr>\n",
       "    <tr>\n",
       "      <th>2874</th>\n",
       "      <td>Di</td>\n",
       "      <td>female</td>\n",
       "      <td>2</td>\n",
       "    </tr>\n",
       "    <tr>\n",
       "      <th>3990</th>\n",
       "      <td>Ty</td>\n",
       "      <td>male</td>\n",
       "      <td>2</td>\n",
       "    </tr>\n",
       "    <tr>\n",
       "      <th>4209</th>\n",
       "      <td>Ki</td>\n",
       "      <td>female</td>\n",
       "      <td>2</td>\n",
       "    </tr>\n",
       "    <tr>\n",
       "      <th>4758</th>\n",
       "      <td>Bo</td>\n",
       "      <td>female</td>\n",
       "      <td>2</td>\n",
       "    </tr>\n",
       "    <tr>\n",
       "      <th>5096</th>\n",
       "      <td>Al</td>\n",
       "      <td>male</td>\n",
       "      <td>2</td>\n",
       "    </tr>\n",
       "    <tr>\n",
       "      <th>5834</th>\n",
       "      <td>Ed</td>\n",
       "      <td>male</td>\n",
       "      <td>2</td>\n",
       "    </tr>\n",
       "    <tr>\n",
       "      <th>6252</th>\n",
       "      <td>Jo</td>\n",
       "      <td>male</td>\n",
       "      <td>2</td>\n",
       "    </tr>\n",
       "    <tr>\n",
       "      <th>6541</th>\n",
       "      <td>Ez</td>\n",
       "      <td>male</td>\n",
       "      <td>2</td>\n",
       "    </tr>\n",
       "    <tr>\n",
       "      <th>6795</th>\n",
       "      <td>Vi</td>\n",
       "      <td>female</td>\n",
       "      <td>2</td>\n",
       "    </tr>\n",
       "    <tr>\n",
       "      <th>6887</th>\n",
       "      <td>Ag</td>\n",
       "      <td>female</td>\n",
       "      <td>2</td>\n",
       "    </tr>\n",
       "    <tr>\n",
       "      <th>7595</th>\n",
       "      <td>Si</td>\n",
       "      <td>male</td>\n",
       "      <td>2</td>\n",
       "    </tr>\n",
       "  </tbody>\n",
       "</table>\n",
       "</div>"
      ],
      "text/plain": [
       "     name  gender  letter_count\n",
       "167    Er    male             2\n",
       "173    Hy    male             2\n",
       "1049   Em  female             2\n",
       "1461   Cy    male             2\n",
       "1586   La  female             2\n",
       "1927   Bo    male             2\n",
       "2232   Ev    male             2\n",
       "2442   Jo  female             2\n",
       "2874   Di  female             2\n",
       "3990   Ty    male             2\n",
       "4209   Ki  female             2\n",
       "4758   Bo  female             2\n",
       "5096   Al    male             2\n",
       "5834   Ed    male             2\n",
       "6252   Jo    male             2\n",
       "6541   Ez    male             2\n",
       "6795   Vi  female             2\n",
       "6887   Ag  female             2\n",
       "7595   Si    male             2"
      ]
     },
     "execution_count": 216,
     "metadata": {},
     "output_type": "execute_result"
    }
   ],
   "source": [
    "df.loc[df['letter_count'] == min_letters]"
   ]
  },
  {
   "attachments": {},
   "cell_type": "markdown",
   "metadata": {},
   "source": [
    "# Features\n",
    "### From example classifier\n",
    "* Last letter\n",
    "* 1-letter suffix\n",
    "* 2-letter suffix\n",
    "\n",
    "### New features\n",
    "* If present in cmudict, get bigrams in a list. Else, empty tuple ()\n",
    "* Ratio of number of letters to number of syllables. If number of syllables is not available, ratio is -1."
   ]
  },
  {
   "attachments": {},
   "cell_type": "markdown",
   "metadata": {},
   "source": [
    "# Training the Classifier\n",
    "* Naive Bayes Classifier"
   ]
  },
  {
   "attachments": {},
   "cell_type": "markdown",
   "metadata": {},
   "source": [
    "### 1. Example classifier"
   ]
  },
  {
   "cell_type": "code",
   "execution_count": 217,
   "metadata": {},
   "outputs": [],
   "source": [
    "def extract_features(name):\n",
    "    features = {'last_letter': name[-1],\n",
    "                'suffix1': name[-1:],\n",
    "                'suffix2': name[-2:]}\n",
    "    return features"
   ]
  },
  {
   "cell_type": "code",
   "execution_count": 218,
   "metadata": {},
   "outputs": [
    {
     "name": "stdout",
     "output_type": "stream",
     "text": [
      "0.778\n"
     ]
    }
   ],
   "source": [
    "train_names = names[:6900]\n",
    "devtest_names = names[6900:7400]\n",
    "test_names = names[7400:]\n",
    "\n",
    "featuresets = [(extract_features(n), g) for (n,g) in names]\n",
    "train_set, devtest_set, test_set = featuresets[:6900], featuresets[6900:7400], featuresets[7400:]\n",
    "\n",
    "classifier = nltk.classify.NaiveBayesClassifier.train(train_set)\n",
    "\n",
    "print(nltk.classify.accuracy(classifier, devtest_set))"
   ]
  },
  {
   "attachments": {},
   "cell_type": "markdown",
   "metadata": {},
   "source": [
    "### 2. Add bigram feature"
   ]
  },
  {
   "cell_type": "code",
   "execution_count": 219,
   "metadata": {},
   "outputs": [],
   "source": [
    "prondict =  nltk.corpus.cmudict.dict()\n",
    "def extract_features(name):\n",
    "    features = {'last_letter': name[-1],\n",
    "                'suffix1': name[-1:],\n",
    "                'suffix2': name[-2:]}\n",
    "    \n",
    "    grams = ()\n",
    "\n",
    "    try:\n",
    "        grams = tuple(bigrams(prondict[name.lower()][0]))\n",
    "\n",
    "    except:\n",
    "        grams = ()\n",
    "\n",
    "    features['grams'] = grams\n",
    "\n",
    "    return features\n",
    "    "
   ]
  },
  {
   "cell_type": "code",
   "execution_count": 220,
   "metadata": {},
   "outputs": [
    {
     "name": "stdout",
     "output_type": "stream",
     "text": [
      "0.804\n"
     ]
    }
   ],
   "source": [
    "train_names = names[:6900]\n",
    "devtest_names = names[6900:7400]\n",
    "test_names = names[7400:]\n",
    "\n",
    "featuresets = [(extract_features(n), g) for (n,g) in names]\n",
    "train_set, devtest_set, test_set = featuresets[:6900], featuresets[6900:7400], featuresets[7400:]\n",
    "\n",
    "classifier = nltk.classify.NaiveBayesClassifier.train(train_set)\n",
    "\n",
    "print(nltk.classify.accuracy(classifier, devtest_set))"
   ]
  },
  {
   "attachments": {},
   "cell_type": "markdown",
   "metadata": {},
   "source": [
    "### 3. Add ratio feature"
   ]
  },
  {
   "cell_type": "code",
   "execution_count": 221,
   "metadata": {},
   "outputs": [],
   "source": [
    "def extract_features(name):\n",
    "    features = {'last_letter': name[-1],\n",
    "                'suffix1': name[-1:],\n",
    "                'suffix2': name[-2:]}\n",
    "    \n",
    "    grams = ()\n",
    "    syllables = -1\n",
    "    try:\n",
    "        grams = tuple(bigrams(prondict[name.lower()][0]))\n",
    "        syllables = len(prondict[name.lower()])\n",
    "    except:\n",
    "        grams = ()\n",
    "\n",
    "    features['grams'] = grams\n",
    "    features['letter_syb_ratio'] = -1 if syllables == -1 else (len(name) / syllables)\n",
    "\n",
    "    return features\n",
    "    "
   ]
  },
  {
   "cell_type": "code",
   "execution_count": 222,
   "metadata": {},
   "outputs": [
    {
     "name": "stdout",
     "output_type": "stream",
     "text": [
      "0.812\n"
     ]
    }
   ],
   "source": [
    "train_names = names[:6900]\n",
    "devtest_names = names[6900:7400]\n",
    "test_names = names[7400:]\n",
    "\n",
    "featuresets = [(extract_features(n), g) for (n,g) in names]\n",
    "train_set, devtest_set, test_set = featuresets[:6900], featuresets[6900:7400], featuresets[7400:]\n",
    "\n",
    "classifier = nltk.classify.NaiveBayesClassifier.train(train_set)\n",
    "\n",
    "print(nltk.classify.accuracy(classifier, devtest_set))"
   ]
  },
  {
   "attachments": {},
   "cell_type": "markdown",
   "metadata": {},
   "source": [
    "# Testing the Classifier"
   ]
  },
  {
   "cell_type": "code",
   "execution_count": 223,
   "metadata": {},
   "outputs": [
    {
     "name": "stdout",
     "output_type": "stream",
     "text": [
      "0.7941176470588235\n"
     ]
    }
   ],
   "source": [
    "print(nltk.classify.accuracy(classifier, test_set))"
   ]
  },
  {
   "cell_type": "code",
   "execution_count": 224,
   "metadata": {},
   "outputs": [
    {
     "name": "stdout",
     "output_type": "stream",
     "text": [
      "Most Informative Features\n",
      "                 suffix2 = 'na'           female : male   =     93.4 : 1.0\n",
      "                 suffix2 = 'la'           female : male   =     71.9 : 1.0\n",
      "                 suffix2 = 'ia'           female : male   =     36.5 : 1.0\n",
      "             last_letter = 'a'            female : male   =     34.6 : 1.0\n",
      "                 suffix1 = 'a'            female : male   =     34.6 : 1.0\n"
     ]
    }
   ],
   "source": [
    "classifier.show_most_informative_features(5)"
   ]
  },
  {
   "attachments": {},
   "cell_type": "markdown",
   "metadata": {},
   "source": [
    "# Errors\n",
    "These are the names that were misclassified."
   ]
  },
  {
   "cell_type": "code",
   "execution_count": 225,
   "metadata": {},
   "outputs": [
    {
     "name": "stdout",
     "output_type": "stream",
     "text": [
      "correct=female   guess=male     name=Adelind                       \n",
      "correct=female   guess=male     name=Amber                         \n",
      "correct=female   guess=male     name=Amity                         \n",
      "correct=female   guess=male     name=Ann                           \n",
      "correct=female   guess=male     name=Ariel                         \n",
      "correct=female   guess=male     name=Avis                          \n",
      "correct=female   guess=male     name=Benny                         \n",
      "correct=female   guess=male     name=Berget                        \n",
      "correct=female   guess=male     name=Biddy                         \n",
      "correct=female   guess=male     name=Blake                         \n",
      "correct=female   guess=male     name=Bridget                       \n",
      "correct=female   guess=male     name=Calypso                       \n",
      "correct=female   guess=male     name=Cameo                         \n",
      "correct=female   guess=male     name=Carmon                        \n",
      "correct=female   guess=male     name=Cecil                         \n",
      "correct=female   guess=male     name=Charyl                        \n",
      "correct=female   guess=male     name=Clemmy                        \n",
      "correct=female   guess=male     name=Coleen                        \n",
      "correct=female   guess=male     name=Darryl                        \n",
      "correct=female   guess=male     name=Daryl                         \n",
      "correct=female   guess=male     name=Debor                         \n",
      "correct=female   guess=male     name=Devin                         \n",
      "correct=female   guess=male     name=Dido                          \n",
      "correct=female   guess=male     name=Dorian                        \n",
      "correct=female   guess=male     name=Eden                          \n",
      "correct=female   guess=male     name=Eileen                        \n",
      "correct=female   guess=male     name=Ellen                         \n",
      "correct=female   guess=male     name=Ethelyn                       \n",
      "correct=female   guess=male     name=Garland                       \n",
      "correct=female   guess=male     name=Hedvig                        \n",
      "correct=female   guess=male     name=Hilary                        \n",
      "correct=female   guess=male     name=Hildy                         \n",
      "correct=female   guess=male     name=Isabel                        \n",
      "correct=female   guess=male     name=Ivy                           \n",
      "correct=female   guess=male     name=Jennifer                      \n",
      "correct=female   guess=male     name=Jojo                          \n",
      "correct=female   guess=male     name=Jordan                        \n",
      "correct=female   guess=male     name=Karol                         \n",
      "correct=female   guess=male     name=Kay                           \n",
      "correct=female   guess=male     name=Koo                           \n",
      "correct=female   guess=male     name=Lilyan                        \n",
      "correct=female   guess=male     name=Lorain                        \n",
      "correct=female   guess=male     name=Maddy                         \n",
      "correct=female   guess=male     name=Mair                          \n",
      "correct=female   guess=male     name=Manon                         \n",
      "correct=female   guess=male     name=Marilin                       \n",
      "correct=female   guess=male     name=Maris                         \n",
      "correct=female   guess=male     name=Meg                           \n",
      "correct=female   guess=male     name=Megan                         \n",
      "correct=female   guess=male     name=Melody                        \n",
      "correct=female   guess=male     name=Mercy                         \n",
      "correct=female   guess=male     name=Mikako                        \n",
      "correct=female   guess=male     name=Muriel                        \n",
      "correct=female   guess=male     name=Nert                          \n",
      "correct=female   guess=male     name=Paige                         \n",
      "correct=female   guess=male     name=Polly                         \n",
      "correct=female   guess=male     name=Quentin                       \n",
      "correct=female   guess=male     name=Rachel                        \n",
      "correct=female   guess=male     name=Rory                          \n",
      "correct=female   guess=male     name=Rosabel                       \n",
      "correct=female   guess=male     name=Rowe                          \n",
      "correct=female   guess=male     name=Sam                           \n",
      "correct=female   guess=male     name=Sunny                         \n",
      "correct=female   guess=male     name=Ted                           \n",
      "correct=female   guess=male     name=Tiffany                       \n",
      "correct=female   guess=male     name=Tracey                        \n",
      "correct=male     guess=female   name=Ajai                          \n",
      "correct=male     guess=female   name=Barnie                        \n",
      "correct=male     guess=female   name=Benjamen                      \n",
      "correct=male     guess=female   name=Billie                        \n",
      "correct=male     guess=female   name=Blaine                        \n",
      "correct=male     guess=female   name=Carleigh                      \n",
      "correct=male     guess=female   name=Chrisy                        \n",
      "correct=male     guess=female   name=Dani                          \n",
      "correct=male     guess=female   name=Danny                         \n",
      "correct=male     guess=female   name=Demetri                       \n",
      "correct=male     guess=female   name=Dimitri                       \n",
      "correct=male     guess=female   name=Doyle                         \n",
      "correct=male     guess=female   name=Emmy                          \n",
      "correct=male     guess=female   name=Etienne                       \n",
      "correct=male     guess=female   name=Felipe                        \n",
      "correct=male     guess=female   name=Fonsie                        \n",
      "correct=male     guess=female   name=Franky                        \n",
      "correct=male     guess=female   name=Graehme                       \n",
      "correct=male     guess=female   name=Haleigh                       \n",
      "correct=male     guess=female   name=Jaime                         \n",
      "correct=male     guess=female   name=Jamey                         \n",
      "correct=male     guess=female   name=Jermayne                      \n",
      "correct=male     guess=female   name=Lonnie                        \n",
      "correct=male     guess=female   name=Meredith                      \n",
      "correct=male     guess=female   name=Moe                           \n",
      "correct=male     guess=female   name=Moishe                        \n",
      "correct=male     guess=female   name=Mose                          \n",
      "correct=male     guess=female   name=Moshe                         \n",
      "correct=male     guess=female   name=Munroe                        \n",
      "correct=male     guess=female   name=Neddy                         \n",
      "correct=male     guess=female   name=Odie                          \n",
      "correct=male     guess=female   name=Osbourne                      \n",
      "correct=male     guess=female   name=Patsy                         \n",
      "correct=male     guess=female   name=Richie                        \n",
      "correct=male     guess=female   name=Shane                         \n",
      "correct=male     guess=female   name=Shurlocke                     \n",
      "correct=male     guess=female   name=Si                            \n",
      "correct=male     guess=female   name=Spence                        \n",
      "correct=male     guess=female   name=Thane                         \n",
      "correct=male     guess=female   name=Towny                         \n",
      "correct=male     guess=female   name=Tye                           \n",
      "correct=male     guess=female   name=Tymothy                       \n",
      "correct=male     guess=female   name=Vance                         \n",
      "correct=male     guess=female   name=Vasili                        \n",
      "correct=male     guess=female   name=Vernen                        \n",
      "correct=male     guess=female   name=Zollie                        \n"
     ]
    }
   ],
   "source": [
    "errors = []\n",
    "for (name, tag) in test_names:\n",
    "    guess = classifier.classify(extract_features(name))\n",
    "    if guess != tag:\n",
    "        errors.append( (tag, guess, name) )\n",
    "\n",
    "for (tag, guess, name) in sorted(errors): # doctest: +ELLIPSIS +NORMALIZE_WHITESPACE\n",
    "    print('correct=%-8s guess=%-8s name=%-30s' %\n",
    "(tag, guess, name))"
   ]
  },
  {
   "attachments": {},
   "cell_type": "markdown",
   "metadata": {},
   "source": [
    "The devtest set had an accuracy of 81% and the test set had an accuracy of 79%. There isn't much of a difference, as expected. These sets are disjoint."
   ]
  }
 ],
 "metadata": {
  "kernelspec": {
   "display_name": "Python 3",
   "language": "python",
   "name": "python3"
  },
  "language_info": {
   "codemirror_mode": {
    "name": "ipython",
    "version": 3
   },
   "file_extension": ".py",
   "mimetype": "text/x-python",
   "name": "python",
   "nbconvert_exporter": "python",
   "pygments_lexer": "ipython3",
   "version": "3.10.0"
  },
  "orig_nbformat": 4
 },
 "nbformat": 4,
 "nbformat_minor": 2
}
