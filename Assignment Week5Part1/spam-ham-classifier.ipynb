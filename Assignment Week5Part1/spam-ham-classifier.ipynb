{
 "cells": [
  {
   "attachments": {},
   "cell_type": "markdown",
   "metadata": {},
   "source": [
    "# Week 5 Part 2 Assignment: Document Classification\n",
    "Group Members: Tora Mullings, Coffy Andrews-Guo\n",
    "\n",
    "Data Source: [UCI Machine Learning Repository: Spambase Data Set](http://archive.ics.uci.edu/dataset/94/spambas)"
   ]
  },
  {
   "cell_type": "code",
   "execution_count": 19,
   "metadata": {},
   "outputs": [],
   "source": [
    "import nltk\n",
    "import pandas as pd\n",
    "import seaborn as sns\n",
    "from sklearn.preprocessing import MinMaxScaler\n",
    "from nltk.metrics import ConfusionMatrix\n",
    "import sklearn.metrics as metrics\n",
    "import matplotlib.pyplot as plt"
   ]
  },
  {
   "attachments": {},
   "cell_type": "markdown",
   "metadata": {},
   "source": [
    "Each row is an email. We are predicting whether the email is spam or ham based on its qualities, which are the column values. The last column contains either 1 indicating the email is spam, or 0 for ham.\n",
    "\n",
    "Which qualities are most important for classifying an email?"
   ]
  },
  {
   "cell_type": "code",
   "execution_count": 20,
   "metadata": {},
   "outputs": [
    {
     "data": {
      "text/html": [
       "<div>\n",
       "<style scoped>\n",
       "    .dataframe tbody tr th:only-of-type {\n",
       "        vertical-align: middle;\n",
       "    }\n",
       "\n",
       "    .dataframe tbody tr th {\n",
       "        vertical-align: top;\n",
       "    }\n",
       "\n",
       "    .dataframe thead th {\n",
       "        text-align: right;\n",
       "    }\n",
       "</style>\n",
       "<table border=\"1\" class=\"dataframe\">\n",
       "  <thead>\n",
       "    <tr style=\"text-align: right;\">\n",
       "      <th></th>\n",
       "      <th>col0</th>\n",
       "      <th>col1</th>\n",
       "      <th>col2</th>\n",
       "      <th>col3</th>\n",
       "      <th>col4</th>\n",
       "      <th>col5</th>\n",
       "      <th>col6</th>\n",
       "      <th>col7</th>\n",
       "      <th>col8</th>\n",
       "      <th>col9</th>\n",
       "      <th>...</th>\n",
       "      <th>col48</th>\n",
       "      <th>col49</th>\n",
       "      <th>col50</th>\n",
       "      <th>col51</th>\n",
       "      <th>col52</th>\n",
       "      <th>col53</th>\n",
       "      <th>col54</th>\n",
       "      <th>col55</th>\n",
       "      <th>col56</th>\n",
       "      <th>tag</th>\n",
       "    </tr>\n",
       "  </thead>\n",
       "  <tbody>\n",
       "    <tr>\n",
       "      <th>0</th>\n",
       "      <td>0.21</td>\n",
       "      <td>0.28</td>\n",
       "      <td>0.50</td>\n",
       "      <td>0.0</td>\n",
       "      <td>0.14</td>\n",
       "      <td>0.28</td>\n",
       "      <td>0.21</td>\n",
       "      <td>0.07</td>\n",
       "      <td>0.00</td>\n",
       "      <td>0.94</td>\n",
       "      <td>...</td>\n",
       "      <td>0.00</td>\n",
       "      <td>0.132</td>\n",
       "      <td>0.0</td>\n",
       "      <td>0.372</td>\n",
       "      <td>0.180</td>\n",
       "      <td>0.048</td>\n",
       "      <td>5.114</td>\n",
       "      <td>101</td>\n",
       "      <td>1028</td>\n",
       "      <td>1</td>\n",
       "    </tr>\n",
       "    <tr>\n",
       "      <th>1</th>\n",
       "      <td>0.06</td>\n",
       "      <td>0.00</td>\n",
       "      <td>0.71</td>\n",
       "      <td>0.0</td>\n",
       "      <td>1.23</td>\n",
       "      <td>0.19</td>\n",
       "      <td>0.19</td>\n",
       "      <td>0.12</td>\n",
       "      <td>0.64</td>\n",
       "      <td>0.25</td>\n",
       "      <td>...</td>\n",
       "      <td>0.01</td>\n",
       "      <td>0.143</td>\n",
       "      <td>0.0</td>\n",
       "      <td>0.276</td>\n",
       "      <td>0.184</td>\n",
       "      <td>0.010</td>\n",
       "      <td>9.821</td>\n",
       "      <td>485</td>\n",
       "      <td>2259</td>\n",
       "      <td>1</td>\n",
       "    </tr>\n",
       "    <tr>\n",
       "      <th>2</th>\n",
       "      <td>0.00</td>\n",
       "      <td>0.00</td>\n",
       "      <td>0.00</td>\n",
       "      <td>0.0</td>\n",
       "      <td>0.63</td>\n",
       "      <td>0.00</td>\n",
       "      <td>0.31</td>\n",
       "      <td>0.63</td>\n",
       "      <td>0.31</td>\n",
       "      <td>0.63</td>\n",
       "      <td>...</td>\n",
       "      <td>0.00</td>\n",
       "      <td>0.137</td>\n",
       "      <td>0.0</td>\n",
       "      <td>0.137</td>\n",
       "      <td>0.000</td>\n",
       "      <td>0.000</td>\n",
       "      <td>3.537</td>\n",
       "      <td>40</td>\n",
       "      <td>191</td>\n",
       "      <td>1</td>\n",
       "    </tr>\n",
       "    <tr>\n",
       "      <th>3</th>\n",
       "      <td>0.00</td>\n",
       "      <td>0.00</td>\n",
       "      <td>0.00</td>\n",
       "      <td>0.0</td>\n",
       "      <td>0.63</td>\n",
       "      <td>0.00</td>\n",
       "      <td>0.31</td>\n",
       "      <td>0.63</td>\n",
       "      <td>0.31</td>\n",
       "      <td>0.63</td>\n",
       "      <td>...</td>\n",
       "      <td>0.00</td>\n",
       "      <td>0.135</td>\n",
       "      <td>0.0</td>\n",
       "      <td>0.135</td>\n",
       "      <td>0.000</td>\n",
       "      <td>0.000</td>\n",
       "      <td>3.537</td>\n",
       "      <td>40</td>\n",
       "      <td>191</td>\n",
       "      <td>1</td>\n",
       "    </tr>\n",
       "    <tr>\n",
       "      <th>4</th>\n",
       "      <td>0.00</td>\n",
       "      <td>0.00</td>\n",
       "      <td>0.00</td>\n",
       "      <td>0.0</td>\n",
       "      <td>1.85</td>\n",
       "      <td>0.00</td>\n",
       "      <td>0.00</td>\n",
       "      <td>1.85</td>\n",
       "      <td>0.00</td>\n",
       "      <td>0.00</td>\n",
       "      <td>...</td>\n",
       "      <td>0.00</td>\n",
       "      <td>0.223</td>\n",
       "      <td>0.0</td>\n",
       "      <td>0.000</td>\n",
       "      <td>0.000</td>\n",
       "      <td>0.000</td>\n",
       "      <td>3.000</td>\n",
       "      <td>15</td>\n",
       "      <td>54</td>\n",
       "      <td>1</td>\n",
       "    </tr>\n",
       "  </tbody>\n",
       "</table>\n",
       "<p>5 rows × 58 columns</p>\n",
       "</div>"
      ],
      "text/plain": [
       "   col0  col1  col2  col3  col4  col5  col6  col7  col8  col9  ...  col48  \\\n",
       "0  0.21  0.28  0.50   0.0  0.14  0.28  0.21  0.07  0.00  0.94  ...   0.00   \n",
       "1  0.06  0.00  0.71   0.0  1.23  0.19  0.19  0.12  0.64  0.25  ...   0.01   \n",
       "2  0.00  0.00  0.00   0.0  0.63  0.00  0.31  0.63  0.31  0.63  ...   0.00   \n",
       "3  0.00  0.00  0.00   0.0  0.63  0.00  0.31  0.63  0.31  0.63  ...   0.00   \n",
       "4  0.00  0.00  0.00   0.0  1.85  0.00  0.00  1.85  0.00  0.00  ...   0.00   \n",
       "\n",
       "   col49  col50  col51  col52  col53  col54  col55  col56  tag  \n",
       "0  0.132    0.0  0.372  0.180  0.048  5.114    101   1028    1  \n",
       "1  0.143    0.0  0.276  0.184  0.010  9.821    485   2259    1  \n",
       "2  0.137    0.0  0.137  0.000  0.000  3.537     40    191    1  \n",
       "3  0.135    0.0  0.135  0.000  0.000  3.537     40    191    1  \n",
       "4  0.223    0.0  0.000  0.000  0.000  3.000     15     54    1  \n",
       "\n",
       "[5 rows x 58 columns]"
      ]
     },
     "execution_count": 20,
     "metadata": {},
     "output_type": "execute_result"
    }
   ],
   "source": [
    "# Load data\n",
    "col_names = [\"col\"+str(i) for i in range(57)] + [\"tag\"]\n",
    "df = pd.read_csv('https://raw.githubusercontent.com/candrewxs/D620/main/Assignment%20Week5Part1/spambase.data', header=0, names = col_names)\n",
    "df.head()"
   ]
  },
  {
   "cell_type": "code",
   "execution_count": 21,
   "metadata": {},
   "outputs": [
    {
     "name": "stdout",
     "output_type": "stream",
     "text": [
      "<class 'pandas.core.frame.DataFrame'>\n",
      "RangeIndex: 4600 entries, 0 to 4599\n",
      "Data columns (total 58 columns):\n",
      " #   Column  Non-Null Count  Dtype  \n",
      "---  ------  --------------  -----  \n",
      " 0   col0    4600 non-null   float64\n",
      " 1   col1    4600 non-null   float64\n",
      " 2   col2    4600 non-null   float64\n",
      " 3   col3    4600 non-null   float64\n",
      " 4   col4    4600 non-null   float64\n",
      " 5   col5    4600 non-null   float64\n",
      " 6   col6    4600 non-null   float64\n",
      " 7   col7    4600 non-null   float64\n",
      " 8   col8    4600 non-null   float64\n",
      " 9   col9    4600 non-null   float64\n",
      " 10  col10   4600 non-null   float64\n",
      " 11  col11   4600 non-null   float64\n",
      " 12  col12   4600 non-null   float64\n",
      " 13  col13   4600 non-null   float64\n",
      " 14  col14   4600 non-null   float64\n",
      " 15  col15   4600 non-null   float64\n",
      " 16  col16   4600 non-null   float64\n",
      " 17  col17   4600 non-null   float64\n",
      " 18  col18   4600 non-null   float64\n",
      " 19  col19   4600 non-null   float64\n",
      " 20  col20   4600 non-null   float64\n",
      " 21  col21   4600 non-null   float64\n",
      " 22  col22   4600 non-null   float64\n",
      " 23  col23   4600 non-null   float64\n",
      " 24  col24   4600 non-null   float64\n",
      " 25  col25   4600 non-null   float64\n",
      " 26  col26   4600 non-null   float64\n",
      " 27  col27   4600 non-null   float64\n",
      " 28  col28   4600 non-null   float64\n",
      " 29  col29   4600 non-null   float64\n",
      " 30  col30   4600 non-null   float64\n",
      " 31  col31   4600 non-null   float64\n",
      " 32  col32   4600 non-null   float64\n",
      " 33  col33   4600 non-null   float64\n",
      " 34  col34   4600 non-null   float64\n",
      " 35  col35   4600 non-null   float64\n",
      " 36  col36   4600 non-null   float64\n",
      " 37  col37   4600 non-null   float64\n",
      " 38  col38   4600 non-null   float64\n",
      " 39  col39   4600 non-null   float64\n",
      " 40  col40   4600 non-null   float64\n",
      " 41  col41   4600 non-null   float64\n",
      " 42  col42   4600 non-null   float64\n",
      " 43  col43   4600 non-null   float64\n",
      " 44  col44   4600 non-null   float64\n",
      " 45  col45   4600 non-null   float64\n",
      " 46  col46   4600 non-null   float64\n",
      " 47  col47   4600 non-null   float64\n",
      " 48  col48   4600 non-null   float64\n",
      " 49  col49   4600 non-null   float64\n",
      " 50  col50   4600 non-null   float64\n",
      " 51  col51   4600 non-null   float64\n",
      " 52  col52   4600 non-null   float64\n",
      " 53  col53   4600 non-null   float64\n",
      " 54  col54   4600 non-null   float64\n",
      " 55  col55   4600 non-null   int64  \n",
      " 56  col56   4600 non-null   int64  \n",
      " 57  tag     4600 non-null   int64  \n",
      "dtypes: float64(55), int64(3)\n",
      "memory usage: 2.0 MB\n"
     ]
    }
   ],
   "source": [
    "df.info()"
   ]
  },
  {
   "attachments": {},
   "cell_type": "markdown",
   "metadata": {},
   "source": [
    "There are 58 columns, all of which are numerical. The first 48 represent the frequency of certain words. The words themselves can be found in the documentation for the data set. They include:\n",
    "* \"free\"\n",
    "* \"make\"\n",
    "* \"address\"\n",
    "* \"all\"\n",
    "\n",
    "The values in these 48 columns range from 0 to 100 and represent a percentage. \n",
    "\n",
    "The next six columns represent the frequency of certain characters within the email, such as:\n",
    "* (\n",
    "* ; \n",
    "* \\#\n",
    "\n",
    "The next three columns contain the following metrics:\n",
    "* The average length of a run of capital letters\n",
    "* The length of the longeset run of capital letters\n",
    "* The sum of length of uninterrupted sequences of capital letters \n",
    "\n",
    "Finally, the last column tells whether the email is spam or ham."
   ]
  },
  {
   "attachments": {},
   "cell_type": "markdown",
   "metadata": {},
   "source": [
    "### Class Imbalance\n",
    "* In the data set, how many spam emails are there compared to ham emails?"
   ]
  },
  {
   "cell_type": "code",
   "execution_count": 22,
   "metadata": {},
   "outputs": [
    {
     "name": "stdout",
     "output_type": "stream",
     "text": [
      "Spam emails: 1812 \n",
      "Ham emails: 2788\n",
      "Percentage ham: 0.61\n"
     ]
    }
   ],
   "source": [
    "num_spam = len(df.loc[df[\"tag\"]==1])\n",
    "num_ham = len(df.loc[df[\"tag\"]==0])\n",
    "print(\"Spam emails:\", num_spam, \"\\nHam emails:\", num_ham)\n",
    "print(\"Percentage ham:\", round(num_ham/(num_ham+num_spam), 2))"
   ]
  },
  {
   "attachments": {},
   "cell_type": "markdown",
   "metadata": {},
   "source": [
    "Ham emails make up the majority class."
   ]
  },
  {
   "attachments": {},
   "cell_type": "markdown",
   "metadata": {},
   "source": [
    "### Correlation plot"
   ]
  },
  {
   "cell_type": "code",
   "execution_count": 23,
   "metadata": {},
   "outputs": [
    {
     "data": {
      "text/plain": [
       "<AxesSubplot: >"
      ]
     },
     "execution_count": 23,
     "metadata": {},
     "output_type": "execute_result"
    },
    {
     "data": {
      "image/png": "[encoded data removed]",
      "text/plain": [
       "<Figure size 432x288 with 2 Axes>"
      ]
     },
     "metadata": {
      "needs_background": "light"
     },
     "output_type": "display_data"
    }
   ],
   "source": [
    "# corr plot\n",
    "sns.heatmap(df.corr())"
   ]
  },
  {
   "attachments": {},
   "cell_type": "markdown",
   "metadata": {},
   "source": [
    "### Create training and test sets\n",
    "* First, without feature engineering."
   ]
  },
  {
   "cell_type": "code",
   "execution_count": 24,
   "metadata": {},
   "outputs": [],
   "source": [
    "def extract_features(email_row):\n",
    "    features = dict()\n",
    "\n",
    "    for col_name in email_row.index:\n",
    "        features[col_name] = email_row[col_name]\n",
    "\n",
    "    return features"
   ]
  },
  {
   "cell_type": "code",
   "execution_count": 25,
   "metadata": {},
   "outputs": [
    {
     "name": "stdout",
     "output_type": "stream",
     "text": [
      "0.8433333333333334\n"
     ]
    }
   ],
   "source": [
    "df = df.sample(frac=1).reset_index(drop=True)  # shuffle documents\n",
    "tag = df.iloc[:, 57]\n",
    "documents = df.iloc[:, :57] \n",
    "emails = [(documents.loc[i], tag[i]) for i in range(len(tag))]\n",
    "train_emails = documents.iloc[:4000, :]\n",
    "devtest_emails= documents.iloc[4000:4300, :]\n",
    "test_emails = documents.iloc[4300:, :]\n",
    "\n",
    "featuresets = [(extract_features(email), tag) for (email,tag) in emails]\n",
    "\n",
    "train_set, devtest_set, test_set = featuresets[:4000], featuresets[4000:4300], featuresets[4300:]\n",
    "\n",
    "classifier = nltk.classify.NaiveBayesClassifier.train(train_set)\n",
    "\n",
    "print(nltk.classify.accuracy(classifier, devtest_set))\n",
    "\n",
    "#15, 24:48"
   ]
  },
  {
   "attachments": {},
   "cell_type": "markdown",
   "metadata": {},
   "source": [
    "### Most Informative Features"
   ]
  },
  {
   "cell_type": "code",
   "execution_count": 26,
   "metadata": {},
   "outputs": [
    {
     "name": "stdout",
     "output_type": "stream",
     "text": [
      "Most Informative Features\n",
      "                   col15 = 0.32                1 : 0      =     26.7 : 1.0\n",
      "                   col23 = 0.08                1 : 0      =     23.9 : 1.0\n",
      "                   col12 = 0.3                 1 : 0      =     23.9 : 1.0\n",
      "                   col23 = 0.09                1 : 0      =     21.9 : 1.0\n",
      "                   col11 = 0.7                 1 : 0      =     21.5 : 1.0\n"
     ]
    }
   ],
   "source": [
    "classifier.show_most_informative_features(5)"
   ]
  },
  {
   "attachments": {},
   "cell_type": "markdown",
   "metadata": {},
   "source": [
    "The most informative feature for this classifier is the last predictor, which is \"The sum of length of uninterrupted sequences of capital letters\".\n",
    "Emails in the training set that have a value of 5 for this predictor are ham 26 times more than spam."
   ]
  },
  {
   "attachments": {},
   "cell_type": "markdown",
   "metadata": {},
   "source": [
    "### Training and Tests with Feature Engineering\n",
    "* Normalize last 3 columns using MinMaxScaler"
   ]
  },
  {
   "cell_type": "code",
   "execution_count": 27,
   "metadata": {},
   "outputs": [],
   "source": [
    "scaler = MinMaxScaler(feature_range=(0,1))  # scale to percentage like the other columns\n",
    "df[['col54', 'col55', 'col56']] = scaler.fit_transform(df[['col54', 'col55', 'col56']])"
   ]
  },
  {
   "cell_type": "code",
   "execution_count": 28,
   "metadata": {},
   "outputs": [
    {
     "name": "stdout",
     "output_type": "stream",
     "text": [
      "0.87\n"
     ]
    }
   ],
   "source": [
    "df = df.sample(frac=1).reset_index(drop=True)  # shuffle documents\n",
    "tag = df.iloc[:, 57]\n",
    "documents = df.iloc[:, :57] \n",
    "emails = [(documents.loc[i], tag[i]) for i in range(len(tag))]\n",
    "train_emails = documents.iloc[:4000, :]\n",
    "devtest_emails= documents.iloc[4000:4300, :]\n",
    "test_emails = documents.iloc[4300:, :]\n",
    "\n",
    "featuresets = [(extract_features(email), tag) for (email,tag) in emails]\n",
    "\n",
    "train_set, devtest_set, test_set = featuresets[:4000], featuresets[4000:4300], featuresets[4300:]\n",
    "\n",
    "classifier = nltk.classify.NaiveBayesClassifier.train(train_set)\n",
    "\n",
    "print(nltk.classify.accuracy(classifier, devtest_set))\n",
    "\n",
    "#15, 24:48"
   ]
  },
  {
   "attachments": {},
   "cell_type": "markdown",
   "metadata": {},
   "source": [
    "After performing normalization, the accuracy increased a few percentage points."
   ]
  },
  {
   "cell_type": "code",
   "execution_count": 29,
   "metadata": {},
   "outputs": [
    {
     "name": "stdout",
     "output_type": "stream",
     "text": [
      "Most Informative Features\n",
      "                   col56 = 0.0002525252525252525      0 : 1      =     46.5 : 1.0\n",
      "                   col12 = 0.3                 1 : 0      =     24.8 : 1.0\n",
      "                   col15 = 0.32                1 : 0      =     24.6 : 1.0\n",
      "                   col23 = 0.08                1 : 0      =     22.8 : 1.0\n",
      "                   col23 = 0.09                1 : 0      =     21.8 : 1.0\n"
     ]
    }
   ],
   "source": [
    "classifier.show_most_informative_features(5)"
   ]
  },
  {
   "attachments": {},
   "cell_type": "markdown",
   "metadata": {},
   "source": [
    "After the normalization, the last predictor is still the most informative. It even became more informative."
   ]
  },
  {
   "attachments": {},
   "cell_type": "markdown",
   "metadata": {},
   "source": [
    "### Evaluation"
   ]
  },
  {
   "cell_type": "code",
   "execution_count": 30,
   "metadata": {},
   "outputs": [],
   "source": [
    "X = []\n",
    "y_actual = []\n",
    "for predictor_dict, tag in test_set:\n",
    "    X.append(predictor_dict)\n",
    "    y_actual.append(tag)\n",
    "\n",
    "y_pred = classifier.classify_many(X)"
   ]
  },
  {
   "cell_type": "code",
   "execution_count": 31,
   "metadata": {},
   "outputs": [
    {
     "name": "stdout",
     "output_type": "stream",
     "text": [
      "  |   0   1 |\n",
      "--+---------+\n",
      "0 |<169> 12 |\n",
      "1 |  30 <89>|\n",
      "--+---------+\n",
      "(row = reference; col = test)\n",
      "\n"
     ]
    }
   ],
   "source": [
    "cm = ConfusionMatrix(y_actual, y_pred)\n",
    "print(cm)"
   ]
  },
  {
   "attachments": {},
   "cell_type": "markdown",
   "metadata": {},
   "source": [
    "The rows are the ground truth, or actual values for emails in the test set. The columns are the predicted values."
   ]
  },
  {
   "cell_type": "code",
   "execution_count": 32,
   "metadata": {},
   "outputs": [
    {
     "name": "stdout",
     "output_type": "stream",
     "text": [
      "Spam emails (test): 119 \n",
      "Ham emails (test): 181\n",
      "Percentage ham (test): 0.6\n"
     ]
    }
   ],
   "source": [
    "num_test_spam = 0\n",
    "num_test_ham = 0\n",
    "for predictor_dict, tag in test_set:\n",
    "    if tag==1:\n",
    "        num_test_spam+=1\n",
    "    else:\n",
    "        num_test_ham+=1\n",
    "\n",
    "print(\"Spam emails (test):\", num_test_spam, \"\\nHam emails (test):\", num_test_ham)\n",
    "print(\"Percentage ham (test):\", round(num_test_ham/(num_test_ham+num_test_spam), 2))"
   ]
  },
  {
   "cell_type": "code",
   "execution_count": 33,
   "metadata": {},
   "outputs": [
    {
     "name": "stdout",
     "output_type": "stream",
     "text": [
      "F-Measure: 0.81\n",
      "Precision: 0.88\n",
      "Recall: 0.75\n"
     ]
    }
   ],
   "source": [
    "fmeasure = round(cm.f_measure(1),2)\n",
    "precision = round(cm.precision(1),2)\n",
    "recall = round(cm.recall(1),2)\n",
    "\n",
    "print(\"F-Measure:\", fmeasure)\n",
    "print(\"Precision:\", precision)\n",
    "print(\"Recall:\", recall)"
   ]
  },
  {
   "attachments": {},
   "cell_type": "markdown",
   "metadata": {},
   "source": [
    "* Precision, or specificity, is equal to *TP / (TP + FN)* and is the ratio of the number of correct predictions of the value to the number of all predictions of the value.\n",
    "\n",
    "* Recall, or sensitivity, is equal to *TP / (TP + FP)* and is the ratio of the number of correct predictions of the value to the number of times when the value was the ground-truth."
   ]
  },
  {
   "cell_type": "code",
   "execution_count": 34,
   "metadata": {},
   "outputs": [
    {
     "data": {
      "image/png": "[encoded data removed]",
      "text/plain": [
       "<Figure size 432x288 with 1 Axes>"
      ]
     },
     "metadata": {
      "needs_background": "light"
     },
     "output_type": "display_data"
    }
   ],
   "source": [
    "\n",
    "# calculate the fpr and tpr for all thresholds of the classification\n",
    "fpr, tpr, threshold = metrics.roc_curve(y_actual, y_pred)\n",
    "roc_auc = metrics.auc(fpr, tpr)\n",
    "\n",
    "plt.title('Receiver Operating Characteristic')\n",
    "plt.plot(fpr, tpr, 'b', label = 'AUC = %0.2f' % roc_auc)\n",
    "plt.legend(loc = 'lower right')\n",
    "plt.plot([0, 1], [0, 1],'r--')\n",
    "plt.xlim([0, 1])\n",
    "plt.ylim([0, 1])\n",
    "plt.ylabel('True Positive Rate')\n",
    "plt.xlabel('False Positive Rate')\n",
    "plt.show()"
   ]
  }
 ],
 "metadata": {
  "kernelspec": {
   "display_name": "Python 3",
   "language": "python",
   "name": "python3"
  },
  "language_info": {
   "codemirror_mode": {
    "name": "ipython",
    "version": 3
   },
   "file_extension": ".py",
   "mimetype": "text/x-python",
   "name": "python",
   "nbconvert_exporter": "python",
   "pygments_lexer": "ipython3",
   "version": "3.10.0"
  },
  "orig_nbformat": 4
 },
 "nbformat": 4,
 "nbformat_minor": 2
}
